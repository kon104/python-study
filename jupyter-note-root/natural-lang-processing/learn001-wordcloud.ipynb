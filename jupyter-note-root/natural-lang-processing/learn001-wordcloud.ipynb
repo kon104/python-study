{
 "cells": [
  {
   "cell_type": "code",
   "execution_count": null,
   "metadata": {},
   "outputs": [],
   "source": [
    "import collections\n",
    "from wordcloud import WordCloud\n",
    "import matplotlib.pyplot as plt\n",
    "\n",
    "# https://www.youtube.com/watch?v=6p_8ftWk5G8&t=0s"
   ]
  },
  {
   "cell_type": "code",
   "execution_count": null,
   "metadata": {},
   "outputs": [],
   "source": [
    "%run ./mylib.ipynb"
   ]
  },
  {
   "cell_type": "code",
   "execution_count": null,
   "metadata": {},
   "outputs": [],
   "source": [
    "texts = [\n",
    "    '吾輩は猫である。',\n",
    "    '名前はまだ無い。',\n",
    "    'どこで生れたかとんと見当がつかぬ。',\n",
    "    '何でも薄暗いじめじめした所でニャーニャー泣いていた事だけは記憶している。',\n",
    "    '吾輩はここで始めて人間というものを見た。',\n",
    "    'しかもあとで聞くとそれは書生という人間中で一番獰悪な種族であったそうだ。',\n",
    "    'この書生というのは時々我々を捕えて煮て食うという話である。'\n",
    "]\n",
    "COL_NAME = \"text\",\n",
    "df = pd.DataFrame(texts, columns = [COL_NAME])"
   ]
  },
  {
   "cell_type": "code",
   "execution_count": null,
   "metadata": {},
   "outputs": [],
   "source": [
    "df = read_csv2df()\n",
    "COL_NAME = '初回通話内容'\n",
    "df = sanitize_minutes(df, COL_NAME)"
   ]
  },
  {
   "cell_type": "code",
   "execution_count": null,
   "metadata": {},
   "outputs": [],
   "source": [
    "series = df[0:][COL_NAME]\n",
    "#series = df[0:10]['初回通話内容']\n",
    "text = \" \".join(series)"
   ]
  },
  {
   "cell_type": "code",
   "execution_count": null,
   "metadata": {},
   "outputs": [],
   "source": [
    "word_list = mecab_sep(text, False)\n",
    "# print(word_list)"
   ]
  },
  {
   "cell_type": "code",
   "execution_count": null,
   "metadata": {},
   "outputs": [],
   "source": [
    "count_list = collections.Counter(word_list)\n",
    "print(count_list)"
   ]
  },
  {
   "cell_type": "code",
   "execution_count": null,
   "metadata": {},
   "outputs": [],
   "source": [
    "cloud_list = \" \".join(word_list)"
   ]
  },
  {
   "cell_type": "code",
   "execution_count": null,
   "metadata": {},
   "outputs": [],
   "source": [
    "wordcloud = WordCloud(\n",
    "    font_path = \"/usr/share/fonts/opentype/ipafont-mincho/ipamp.ttf\",\n",
    "    background_color = \"white\")\n",
    "wordcloud.generate(cloud_list)\n",
    "plt.imshow(wordcloud)\n",
    "# plt.savefig(os.path.splitext('__file__')[0] + '.png')"
   ]
  },
  {
   "cell_type": "code",
   "execution_count": null,
   "metadata": {},
   "outputs": [],
   "source": [
    "import mylib\n",
    "import importlib\n",
    "importlib.reload(mylib)\n",
    "\n",
    "mylib.mygreeting(\"taro\")"
   ]
  },
  {
   "cell_type": "code",
   "execution_count": null,
   "metadata": {},
   "outputs": [],
   "source": [
    "%run ./mylib.ipynb\n",
    "mygreeting(\"hoge\")"
   ]
  }
 ],
 "metadata": {
  "kernelspec": {
   "display_name": "Python 3",
   "language": "python",
   "name": "python3"
  },
  "language_info": {
   "codemirror_mode": {
    "name": "ipython",
    "version": 3
   },
   "file_extension": ".py",
   "mimetype": "text/x-python",
   "name": "python",
   "nbconvert_exporter": "python",
   "pygments_lexer": "ipython3",
   "version": "3.8.10"
  }
 },
 "nbformat": 4,
 "nbformat_minor": 4
}
