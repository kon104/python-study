{
 "cells": [
  {
   "cell_type": "code",
   "execution_count": null,
   "metadata": {},
   "outputs": [],
   "source": [
    "import pandas as pd\n",
    "from sklearn.feature_extraction.text import TfidfVectorizer\n",
    "import MeCab\n",
    "from gensim.models.doc2vec import Doc2Vec\n",
    "import re\n",
    "import glob"
   ]
  },
  {
   "cell_type": "code",
   "execution_count": null,
   "metadata": {},
   "outputs": [],
   "source": [
    "def mygreeting(name):\n",
    "    state = \"hello [\" + name + \"]!!\"\n",
    "    print(state)"
   ]
  },
  {
   "cell_type": "code",
   "execution_count": null,
   "metadata": {},
   "outputs": [],
   "source": [
    "def read_csv2df():\n",
    "    df = pd.DataFrame()\n",
    "\n",
    "    path = \"csv/*.csv\"\n",
    "    for fpath in glob.glob(path):\n",
    "        df_csv = pd.read_csv(fpath)\n",
    "        df = pd.concat([df, df_csv]).reset_index(drop=True)\n",
    "        \n",
    "    return df"
   ]
  },
  {
   "cell_type": "code",
   "execution_count": null,
   "metadata": {},
   "outputs": [],
   "source": [
    "def sanitize_minutes(df, col_name):\n",
    "    for index, row in df.iterrows():\n",
    "        val = row[col_name]\n",
    "        val = re.sub('^.*■お問い合わせ内容（箇条書き）', '', val)\n",
    "        val = re.sub('^.*■お問い合わせ内容', '', val)\n",
    "        val = re.sub('^.*■Q1', '', val)\n",
    "        val = re.sub('^.*■問：', '', val)\n",
    "        val = re.sub('^.*■対応内容', '', val)\n",
    "        val = re.sub('^.*■質問内容', '', val)\n",
    "        val = re.sub('■回答内容', '', val)\n",
    "        val = re.sub('■', '', val)\n",
    "        df.at[index, col_name] = val\n",
    "    return df"
   ]
  },
  {
   "cell_type": "code",
   "execution_count": null,
   "metadata": {},
   "outputs": [],
   "source": [
    "def mecab_all_sep(text):\n",
    "    words_list = mecab_sep(text, True)\n",
    "    return words_list"
   ]
  },
  {
   "cell_type": "code",
   "execution_count": null,
   "metadata": {},
   "outputs": [],
   "source": [
    "def mecab_sep(text, allflag):\n",
    "    #m = MeCab.Tagger(\"-Owakati\")\n",
    "    m = MeCab.Tagger()\n",
    "    node = m.parseToNode(text)\n",
    "    \n",
    "    words_list = []\n",
    "    \n",
    "    while node:\n",
    "        word = \"\"\n",
    "        if node.feature.split(\",\")[0] == \"動詞\":\n",
    "            word = node.feature.split(\",\")[7]\n",
    "            if word == \"為る\" or word == \"つく\":\n",
    "                word = \"\"\n",
    "        elif node.feature.split(\",\")[0] == \"形容詞\":\n",
    "            word = node.feature.split(\",\")[7]\n",
    "        elif node.feature.split(\",\")[0] == \"名詞\":\n",
    "            word = node.surface\n",
    "        elif (allflag):\n",
    "            word = node.surface\n",
    "        if word != \"\":\n",
    "            words_list.append(word)\n",
    "        node = node.next\n",
    "        \n",
    "    words_list = words_list[1:-1]\n",
    "    # print(words_list)\n",
    "    return words_list"
   ]
  },
  {
   "cell_type": "code",
   "execution_count": null,
   "metadata": {},
   "outputs": [],
   "source": [
    "def myfunction(list1):\n",
    "    list2 = list1[1:-1]\n",
    "    return list2"
   ]
  },
  {
   "cell_type": "code",
   "execution_count": null,
   "metadata": {},
   "outputs": [],
   "source": [
    "def calc_vecs(docs):\n",
    "    vectorizer = TfidfVectorizer(analyzer=mecab_all_sep)\n",
    "    vecs = vectorizer.fit_transform(docs)\n",
    "    return vecs.toarray()"
   ]
  },
  {
   "cell_type": "code",
   "execution_count": null,
   "metadata": {},
   "outputs": [],
   "source": []
  }
 ],
 "metadata": {
  "kernelspec": {
   "display_name": "Python 3",
   "language": "python",
   "name": "python3"
  },
  "language_info": {
   "codemirror_mode": {
    "name": "ipython",
    "version": 3
   },
   "file_extension": ".py",
   "mimetype": "text/x-python",
   "name": "python",
   "nbconvert_exporter": "python",
   "pygments_lexer": "ipython3",
   "version": "3.8.10"
  }
 },
 "nbformat": 4,
 "nbformat_minor": 4
}
