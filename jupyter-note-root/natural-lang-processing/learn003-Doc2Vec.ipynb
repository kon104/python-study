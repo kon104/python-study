{
 "cells": [
  {
   "cell_type": "code",
   "execution_count": null,
   "metadata": {},
   "outputs": [],
   "source": [
    "from sklearn.metrics.pairwise import cosine_similarity\n",
    "\n",
    "# https://www.youtube.com/watch?v=6p_8ftWk5G8&t=0s"
   ]
  },
  {
   "cell_type": "code",
   "execution_count": null,
   "metadata": {},
   "outputs": [],
   "source": [
    "%run ./mylib.ipynb\n",
    "%run ./mylib-d2v.ipynb"
   ]
  },
  {
   "cell_type": "code",
   "execution_count": null,
   "metadata": {},
   "outputs": [],
   "source": [
    "texts = [\n",
    "    '吾輩は猫である。',\n",
    "    '名前はまだ無い。',\n",
    "    'どこで生れたかとんと見当がつかぬ。',\n",
    "    '何でも薄暗いじめじめした所でニャーニャー泣いていた事だけは記憶している。',\n",
    "    '吾輩はここで始めて人間というものを見た。',\n",
    "    'しかもあとで聞くとそれは書生という人間中で一番獰悪な種族であったそうだ。',\n",
    "    'この書生というのは時々我々を捕えて煮て食うという話である。'\n",
    "]\n",
    "COL_NAME = \"text\",\n",
    "df = pd.DataFrame(texts, columns = [COL_NAME])"
   ]
  },
  {
   "cell_type": "code",
   "execution_count": null,
   "metadata": {},
   "outputs": [],
   "source": [
    "df = read_csv2df()\n",
    "COL_NAME = '初回通話内容'\n",
    "df = sanitize_minutes(df, COL_NAME)"
   ]
  },
  {
   "cell_type": "code",
   "execution_count": null,
   "metadata": {},
   "outputs": [],
   "source": [
    "target = \"私は犬がすごく好きです。\""
   ]
  },
  {
   "cell_type": "code",
   "execution_count": null,
   "metadata": {},
   "outputs": [],
   "source": [
    "docs_list = df[COL_NAME].tolist()"
   ]
  },
  {
   "cell_type": "code",
   "execution_count": null,
   "metadata": {},
   "outputs": [],
   "source": [
    "all_docs = [target] + docs_list\n",
    "all_docs_vecs = calc_vecs_d2v(all_docs)"
   ]
  },
  {
   "cell_type": "code",
   "execution_count": null,
   "metadata": {},
   "outputs": [],
   "source": [
    "similarity = cosine_similarity([all_docs_vecs[0]], all_docs_vecs[1:])\n",
    "df[\"類似度\"] = similarity[0]\n",
    "df = df.sort_values(\"類似度\", ascending = False)\n",
    "df"
   ]
  },
  {
   "cell_type": "code",
   "execution_count": null,
   "metadata": {},
   "outputs": [],
   "source": []
  }
 ],
 "metadata": {
  "kernelspec": {
   "display_name": "Python 3",
   "language": "python",
   "name": "python3"
  },
  "language_info": {
   "codemirror_mode": {
    "name": "ipython",
    "version": 3
   },
   "file_extension": ".py",
   "mimetype": "text/x-python",
   "name": "python",
   "nbconvert_exporter": "python",
   "pygments_lexer": "ipython3",
   "version": "3.8.10"
  }
 },
 "nbformat": 4,
 "nbformat_minor": 4
}
