{
 "cells": [
  {
   "cell_type": "code",
   "execution_count": null,
   "metadata": {},
   "outputs": [],
   "source": [
    "modelDoc2Vec = Doc2Vec.load(\"learned-model/jawiki.doc2vec.dbow300d.model\")\n",
    "def calc_vecs_d2v(docs):\n",
    "    vecs = []\n",
    "    for d in docs:\n",
    "        vecs.append(modelDoc2Vec.infer_vector(mecab_all_sep(d)))\n",
    "    return vecs"
   ]
  }
 ],
 "metadata": {
  "kernelspec": {
   "display_name": "Python 3",
   "language": "python",
   "name": "python3"
  },
  "language_info": {
   "codemirror_mode": {
    "name": "ipython",
    "version": 3
   },
   "file_extension": ".py",
   "mimetype": "text/x-python",
   "name": "python",
   "nbconvert_exporter": "python",
   "pygments_lexer": "ipython3",
   "version": "3.8.10"
  }
 },
 "nbformat": 4,
 "nbformat_minor": 4
}
