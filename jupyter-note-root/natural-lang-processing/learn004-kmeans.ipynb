{
 "cells": [
  {
   "cell_type": "code",
   "execution_count": null,
   "metadata": {},
   "outputs": [],
   "source": [
    "from sklearn.cluster import KMeans\n",
    "\n",
    "# https://www.youtube.com/watch?v=cU2RmYaR44I"
   ]
  },
  {
   "cell_type": "code",
   "execution_count": null,
   "metadata": {},
   "outputs": [],
   "source": [
    "%run ./mylib.ipynb\n",
    "%run ./mylib-d2v.ipynb"
   ]
  },
  {
   "cell_type": "code",
   "execution_count": null,
   "metadata": {},
   "outputs": [],
   "source": [
    "texts = [\n",
    "    '吾輩は猫である。',\n",
    "    '名前はまだ無い。',\n",
    "    'どこで生れたかとんと見当がつかぬ。',\n",
    "    '何でも薄暗いじめじめした所でニャーニャー泣いていた事だけは記憶している。',\n",
    "    '吾輩はここで始めて人間というものを見た。',\n",
    "    'しかもあとで聞くとそれは書生という人間中で一番獰悪な種族であったそうだ。',\n",
    "    'この書生というのは時々我々を捕えて煮て食うという話である。'\n",
    "]\n",
    "COL_NAME = \"text\",\n",
    "df = pd.DataFrame(texts, columns = [COL_NAME])"
   ]
  },
  {
   "cell_type": "code",
   "execution_count": null,
   "metadata": {},
   "outputs": [],
   "source": [
    "df = read_csv2df()\n",
    "COL_NAME = '初回通話内容'\n",
    "df = sanitize_minutes(df, COL_NAME)"
   ]
  },
  {
   "cell_type": "code",
   "execution_count": null,
   "metadata": {},
   "outputs": [],
   "source": [
    "all_docs_vecs = calc_vecs_d2v(df[COL_NAME])"
   ]
  },
  {
   "cell_type": "code",
   "execution_count": null,
   "metadata": {},
   "outputs": [],
   "source": [
    "vec = KMeans(n_clusters = 3)\n",
    "vec.fit(all_docs_vecs)"
   ]
  },
  {
   "cell_type": "code",
   "execution_count": null,
   "metadata": {},
   "outputs": [],
   "source": [
    "df[\"class\"] = vec.labels_\n",
    "df"
   ]
  },
  {
   "cell_type": "code",
   "execution_count": null,
   "metadata": {},
   "outputs": [],
   "source": []
  }
 ],
 "metadata": {
  "kernelspec": {
   "display_name": "Python 3",
   "language": "python",
   "name": "python3"
  },
  "language_info": {
   "codemirror_mode": {
    "name": "ipython",
    "version": 3
   },
   "file_extension": ".py",
   "mimetype": "text/x-python",
   "name": "python",
   "nbconvert_exporter": "python",
   "pygments_lexer": "ipython3",
   "version": "3.8.10"
  }
 },
 "nbformat": 4,
 "nbformat_minor": 4
}
